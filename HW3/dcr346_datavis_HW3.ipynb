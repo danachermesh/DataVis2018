{
 "cells": [
  {
   "cell_type": "markdown",
   "metadata": {},
   "source": [
    "# DataVis HW3"
   ]
  },
  {
   "cell_type": "code",
   "execution_count": 1,
   "metadata": {
    "collapsed": true
   },
   "outputs": [],
   "source": [
    "import altair as alt\n",
    "import pandas as pd \n",
    "import json\n",
    "# This is to enable visualization rendering inside the notebook,\n",
    "# similar to the inline instruction from matplotlib.\n",
    "alt.renderers.enable('notebook')"
   ]
  },
  {
   "cell_type": "markdown",
   "metadata": {},
   "source": [
    "## Read in + filter data"
   ]
  },
  {
   "cell_type": "markdown",
   "metadata": {},
   "source": [
    "## Writing functions to read jason into data frame according to zipcode being called + creating a chart"
   ]
  },
  {
   "cell_type": "code",
   "execution_count": 8,
   "metadata": {
    "collapsed": true
   },
   "outputs": [],
   "source": [
    "# function for arranging data on called zipcode in a df\n",
    "\n",
    "def dataPull(zipcode):\n",
    "    \"\"\" \n",
    "    Function to read in restaurant data per zip from \n",
    "    Json file and convert to dataframe\n",
    "    \"\"\"\n",
    "    # loading data\n",
    "    data = json.load(open('nyc_restaurants_by_cuisine.json', 'r'))\n",
    "    \n",
    "    # Create empty array for storing data\n",
    "    cuisine = []\n",
    "    \n",
    "    # Run function for specified zipcode to detrmine all cuisine types and number of restaurants\n",
    "    for i in range(len(data)):\n",
    "        \n",
    "        # Try-except to ensure if the key does not exist for that zip a 0 value is pulled\n",
    "        try:\n",
    "            # Append array with actual value\n",
    "            cuisine.append([data[i]['cuisine'], data[i]['perZip'][zipcode]])\n",
    "        except KeyError:\n",
    "            # Append array with 0\n",
    "            cuisine.append([data[i]['cuisine'],0])\n",
    "\n",
    "\n",
    "    # Store as dataframe\n",
    "    zipdf = pd.DataFrame(cuisine, columns=['cuisine','perZip']).sort_values('perZip', ascending=False)[:15]\n",
    "    \n",
    "    # If incorrect zipcode, sum will be zero. To ensure empty plot is returned\n",
    "    if zipdf.perZip.sum() == 0:\n",
    "        zipdf = 0\n",
    "    \n",
    "    return zipdf\n",
    "\n",
    "# chart of cuizines by zipcode\n",
    "\n",
    "def createChart(data, zipcode):\n",
    "    color_expression    = \"highlight._vgsid_==datum._vgsid_\"\n",
    "    #color_condition     = alt.ConditionalPredicateValueDef(color_expression, \"SteelBlue\")\n",
    "    highlight_selection = alt.selection_single(name=\"highlight\", empty=\"all\", on=\"mouseover\")\n",
    "    rating_selection    = alt.selection_single(name=\"rating\", empty=\"all\", encodings=['y'])\n",
    "    maxCount            = int(data['restaurants'].max())\n",
    "\n",
    "    barMean = alt.Chart() \\\n",
    "        .mark_bar(stroke=\"Black\") \\\n",
    "        .encode(\n",
    "            alt.X(\"mean(restaurants):Q\", axis=alt.Axis(title=\"Restaurants\")),\n",
    "            alt.Y('cuisine:O', axis=alt.Axis(title=\"Cuisine\"), \n",
    "                  sort=alt.SortField(field=\"restaurants\", op=\"mean\", order='descending')),\n",
    "            alt.ColorValue(\"LightGrey\"),#, condition=color_condition), # Remove color condition\n",
    "        ).properties(\n",
    "            width=200,\n",
    "            height=350,\n",
    "            selection = highlight_selection+rating_selection,\n",
    "        )\n",
    "\n",
    "    return alt.hconcat(barMean,\n",
    "        data=data,\n",
    "        title=\"Cuisines in {}\".format(zipcode)\n",
    "    )"
   ]
  },
  {
   "cell_type": "code",
   "execution_count": 9,
   "metadata": {},
   "outputs": [
    {
     "data": {
      "text/html": [
       "<div>\n",
       "<style scoped>\n",
       "    .dataframe tbody tr th:only-of-type {\n",
       "        vertical-align: middle;\n",
       "    }\n",
       "\n",
       "    .dataframe tbody tr th {\n",
       "        vertical-align: top;\n",
       "    }\n",
       "\n",
       "    .dataframe thead th {\n",
       "        text-align: right;\n",
       "    }\n",
       "</style>\n",
       "<table border=\"1\" class=\"dataframe\">\n",
       "  <thead>\n",
       "    <tr style=\"text-align: right;\">\n",
       "      <th></th>\n",
       "      <th>cuisine</th>\n",
       "      <th>perZip</th>\n",
       "    </tr>\n",
       "  </thead>\n",
       "  <tbody>\n",
       "    <tr>\n",
       "      <th>0</th>\n",
       "      <td>American</td>\n",
       "      <td>1296</td>\n",
       "    </tr>\n",
       "    <tr>\n",
       "      <th>5</th>\n",
       "      <td>Cafe/Coffee/Tea</td>\n",
       "      <td>337</td>\n",
       "    </tr>\n",
       "    <tr>\n",
       "      <th>4</th>\n",
       "      <td>Italian</td>\n",
       "      <td>326</td>\n",
       "    </tr>\n",
       "    <tr>\n",
       "      <th>1</th>\n",
       "      <td>Chinese</td>\n",
       "      <td>316</td>\n",
       "    </tr>\n",
       "    <tr>\n",
       "      <th>7</th>\n",
       "      <td>Japanese</td>\n",
       "      <td>248</td>\n",
       "    </tr>\n",
       "    <tr>\n",
       "      <th>6</th>\n",
       "      <td>Mexican</td>\n",
       "      <td>233</td>\n",
       "    </tr>\n",
       "    <tr>\n",
       "      <th>9</th>\n",
       "      <td>Bakery</td>\n",
       "      <td>214</td>\n",
       "    </tr>\n",
       "    <tr>\n",
       "      <th>11</th>\n",
       "      <td>Pizza/Italian</td>\n",
       "      <td>188</td>\n",
       "    </tr>\n",
       "    <tr>\n",
       "      <th>2</th>\n",
       "      <td>Pizza</td>\n",
       "      <td>179</td>\n",
       "    </tr>\n",
       "    <tr>\n",
       "      <th>3</th>\n",
       "      <td>Latin</td>\n",
       "      <td>128</td>\n",
       "    </tr>\n",
       "    <tr>\n",
       "      <th>15</th>\n",
       "      <td>Indian</td>\n",
       "      <td>118</td>\n",
       "    </tr>\n",
       "    <tr>\n",
       "      <th>19</th>\n",
       "      <td>Thai</td>\n",
       "      <td>108</td>\n",
       "    </tr>\n",
       "    <tr>\n",
       "      <th>29</th>\n",
       "      <td>Seafood</td>\n",
       "      <td>89</td>\n",
       "    </tr>\n",
       "    <tr>\n",
       "      <th>26</th>\n",
       "      <td>Ice Cream, Gelato, Yogurt, Ices</td>\n",
       "      <td>87</td>\n",
       "    </tr>\n",
       "    <tr>\n",
       "      <th>14</th>\n",
       "      <td>Asian</td>\n",
       "      <td>82</td>\n",
       "    </tr>\n",
       "  </tbody>\n",
       "</table>\n",
       "</div>"
      ],
      "text/plain": [
       "                            cuisine  perZip\n",
       "0                          American    1296\n",
       "5                   Cafe/Coffee/Tea     337\n",
       "4                           Italian     326\n",
       "1                           Chinese     316\n",
       "7                          Japanese     248\n",
       "6                           Mexican     233\n",
       "9                            Bakery     214\n",
       "11                    Pizza/Italian     188\n",
       "2                             Pizza     179\n",
       "3                             Latin     128\n",
       "15                           Indian     118\n",
       "19                             Thai     108\n",
       "29                          Seafood      89\n",
       "26  Ice Cream, Gelato, Yogurt, Ices      87\n",
       "14                            Asian      82"
      ]
     },
     "execution_count": 9,
     "metadata": {},
     "output_type": "execute_result"
    }
   ],
   "source": [
    "dataPull('11215')"
   ]
  },
  {
   "cell_type": "code",
   "execution_count": 5,
   "metadata": {},
   "outputs": [],
   "source": [
    "# Here I just copy the JSON, and store it to task1_json.\n",
    "# You could also directly fetch it from URL \n",
    "task1_json = \"\"\"\n",
    "{\n",
    "  \"$schema\": \"https://vega.github.io/schema/vega-lite/v2.json\",\n",
    "  \"data\": {\n",
    "    \"url\": \"https://raw.githubusercontent.com/hvo/datasets/master/nyc_restaurants_by_cuisine.json\",\n",
    "    \"format\": { \"type\": \"json\" }\n",
    "  },\n",
    "  \"transform\": [\n",
    "    {\"filter\": \"datum._vgsid_<=15\"}\n",
    "  ],\n",
    "  \"selection\": {\n",
    "    \"search\": {\n",
    "      \"bind\": {\n",
    "        \"input\": \"input\"\n",
    "      },\n",
    "      \"empty\": \"none\",\n",
    "      \"on\": \"mouseover\",\n",
    "      \"fields\": [\"term\"],\n",
    "      \"type\": \"single\"\n",
    "    },\n",
    "    \"highlight\": {\n",
    "      \"type\": \"single\",\n",
    "      \"on\": \"mouseover\",\n",
    "      \"empty\": \"none\"\n",
    "    }\n",
    "  },\n",
    "  \"mark\": {\n",
    "    \"type\": \"bar\",\n",
    "    \"stroke\": \"black\"    \n",
    "  },\n",
    "  \"encoding\": {\n",
    "    \"color\": {\n",
    "      \"condition\": {\n",
    "        \"test\": \"(indexof(lower(datum.cuisine), lower(search.term))>=0) || (highlight._vgsid_==datum._vgsid_)\",\n",
    "        \"value\": \"SteelBlue\"\n",
    "      },\n",
    "      \"value\": \"LightGrey\"\n",
    "    },\n",
    "    \"y\": {\n",
    "      \"field\": \"cuisine\",\n",
    "      \"type\": \"ordinal\",\n",
    "      \"sort\": {\"field\": \"total\", \"op\": \"argmax\"}\n",
    "    },\n",
    "    \"x\": {\n",
    "      \"field\": \"total\",\n",
    "      \"type\": \"quantitative\",\n",
    "      \"axis\": {\n",
    "      \"title\": \"Restaurants\"\n",
    "      }\n",
    "    }\n",
    "  }\n",
    "}\n",
    "\"\"\""
   ]
  },
  {
   "cell_type": "code",
   "execution_count": 9,
   "metadata": {
    "scrolled": true
   },
   "outputs": [
    {
     "data": {
      "text/html": [
       "<div class=\"vega-embed\" id=\"60bc3386-da70-4a3f-b15c-d2e528beae00\"></div>\n",
       "\n",
       "<style>\n",
       ".vega-embed .vega-actions > a {\n",
       "    transition: opacity 200ms ease-in;\n",
       "    opacity: 0.3;\n",
       "    margin-right: 0.6em;\n",
       "    color: #444;\n",
       "    text-decoration: none;\n",
       "}\n",
       "\n",
       ".vega-embed .vega-actions > a:hover {\n",
       "    color: #000;\n",
       "    text-decoration: underline;\n",
       "}\n",
       "\n",
       ".vega-embed:hover .vega-actions > a {\n",
       "    opacity: 1;\n",
       "    transition: 0s;\n",
       "}\n",
       "\n",
       ".vega-embed .error p {\n",
       "    color: firebrick;\n",
       "    font-size: 1.2em;\n",
       "}\n",
       "</style>\n"
      ]
     },
     "metadata": {
      "jupyter-vega3": "#60bc3386-da70-4a3f-b15c-d2e528beae00"
     },
     "output_type": "display_data"
    },
    {
     "data": {
      "application/javascript": [
       "var spec = {\"config\": {\"view\": {\"width\": 400, \"height\": 300}}, \"data\": {\"url\": \"https://raw.githubusercontent.com/hvo/datasets/master/nyc_restaurants_by_cuisine.json\", \"format\": {\"type\": \"json\"}}, \"mark\": {\"type\": \"bar\", \"stroke\": \"black\"}, \"encoding\": {\"color\": {\"condition\": {\"test\": \"(indexof(lower(datum.cuisine), lower(search.term))>=0) || (highlight._vgsid_==datum._vgsid_)\", \"value\": \"SteelBlue\"}, \"value\": \"LightGrey\"}, \"x\": {\"type\": \"quantitative\", \"axis\": {\"title\": \"Restaurants\"}, \"field\": \"total\"}, \"y\": {\"type\": \"ordinal\", \"field\": \"cuisine\", \"sort\": {\"op\": \"argmax\", \"field\": \"total\"}}}, \"selection\": {\"search\": {\"bind\": {\"input\": \"input\"}, \"empty\": \"none\", \"on\": \"mouseover\", \"fields\": [\"term\"], \"type\": \"single\"}, \"highlight\": {\"type\": \"single\", \"on\": \"mouseover\", \"empty\": \"none\"}}, \"transform\": [{\"filter\": \"datum._vgsid_<=15\"}], \"$schema\": \"https://vega.github.io/schema/vega-lite/v2.json\"};\n",
       "var opt = {};\n",
       "var selector = \"#60bc3386-da70-4a3f-b15c-d2e528beae00\";\n",
       "var type = \"vega-lite\";\n",
       "\n",
       "var output_area = this;\n",
       "\n",
       "require(['nbextensions/jupyter-vega3/index'], function(vega) {\n",
       "  vega.render(selector, spec, type, opt, output_area);\n",
       "}, function (err) {\n",
       "  if (err.requireType !== 'scripterror') {\n",
       "    throw(err);\n",
       "  }\n",
       "});\n"
      ]
     },
     "metadata": {
      "jupyter-vega3": "#60bc3386-da70-4a3f-b15c-d2e528beae00"
     },
     "output_type": "display_data"
    },
    {
     "data": {
      "text/plain": []
     },
     "execution_count": 9,
     "metadata": {},
     "output_type": "execute_result"
    },
    {
     "data": {
      "image/png": "[encoded data removed]"
     },
     "metadata": {
      "jupyter-vega3": "#60bc3386-da70-4a3f-b15c-d2e528beae00"
     },
     "output_type": "display_data"
    }
   ],
   "source": [
    "# Then we just create a chart using this JSON\n",
    "alt.Chart.from_json(task1_json)"
   ]
  },
  {
   "cell_type": "code",
   "execution_count": null,
   "metadata": {
    "collapsed": true
   },
   "outputs": [],
   "source": []
  }
 ],
 "metadata": {
  "kernelspec": {
   "display_name": "vis",
   "language": "python",
   "name": "vis"
  },
  "language_info": {
   "codemirror_mode": {
    "name": "ipython",
    "version": 3
   },
   "file_extension": ".py",
   "mimetype": "text/x-python",
   "name": "python",
   "nbconvert_exporter": "python",
   "pygments_lexer": "ipython3",
   "version": "3.6.5"
  }
 },
 "nbformat": 4,
 "nbformat_minor": 2
}
